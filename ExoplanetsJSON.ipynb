{
 "cells": [
  {
   "cell_type": "markdown",
   "metadata": {},
   "source": [
    "# Open Exoplanet Catalogue for WebGL in JSON format\n",
    "See: http://openexoplanetcatalogue.com/\n",
    "\n",
    "Mark SubbaRao wrote the initial Python Notebook to create the raw file.  Aaron Geller converted this to output a JSON file.\n",
    "\n",
    "The file contains\n",
    "x,y,z(Galactic in pc), semi-major axis factor, distance(ly), yeardiscovered, discovery method, size class, period, ring Info, star name"
   ]
  },
  {
   "cell_type": "code",
   "execution_count": null,
   "metadata": {
    "collapsed": true
   },
   "outputs": [],
   "source": [
    "from astropy import units as u\n",
    "from astropy.coordinates import SkyCoord\n",
    "from astropy.coordinates import Distance, Angle\n",
    "from astropy.table import Table, Column\n",
    "from astropy.io import ascii\n",
    "import math\n",
    "\n",
    "import pandas as pd\n",
    "import os\n",
    "import urllib2\n",
    "import requests\n",
    "from bs4 import BeautifulSoup"
   ]
  },
  {
   "cell_type": "code",
   "execution_count": null,
   "metadata": {
    "collapsed": false
   },
   "outputs": [],
   "source": [
    "import xml.etree.ElementTree as ET, urllib2, gzip, io\n",
    "url = \"https://github.com/OpenExoplanetCatalogue/oec_gzip/raw/master/systems.xml.gz\"\n",
    "oec = ET.parse(gzip.GzipFile(fileobj=io.BytesIO(urllib2.urlopen(url).read())))"
   ]
  },
  {
   "cell_type": "code",
   "execution_count": null,
   "metadata": {
    "collapsed": false
   },
   "outputs": [],
   "source": [
    "# This will eith return a tag value or if it does not exist, its upperlimit, used for mass and radius\n",
    "def getValorUL(tag):\n",
    "    if (tag is None):\n",
    "        value=-999\n",
    "    else:\n",
    "        tagTxt = tag.text\n",
    "        if (tagTxt is None):\n",
    "            tagLim= tag.get('upperlimit')\n",
    "            if (tagLim is None):\n",
    "                value = -999\n",
    "            else:\n",
    "                value=float(tagLim)\n",
    "        else:\n",
    "            value = float(tagTxt)\n",
    "    return(value)\n",
    "\n",
    "spectraltypes_temp_radii = {'O' : (40000,10.) , 'B': (20000,3.0), 'A' : (8500, 1.5), 'F' : (6500, 1.3), 'G' : (5500, 1.0), 'K': (4000, 0.8) , 'M' : (3000, 0.5) }\n",
    "\n",
    "def isHabitable(xmlPair):\n",
    "    planet, star = xmlPair\n",
    "    maxa = 0\n",
    "    if star is None:\n",
    "        return False # no binary systems (yet)\n",
    "    spectralTypeMain = getText(star,\"./spectraltype\",\"G\")[0]\n",
    "    if spectralTypeMain not in spectraltypes_temp_radii :\n",
    "        return False # unsupported spectral type \n",
    "    semimajoraxis = getFloat(planet,\"./semimajoraxis\")\n",
    "    if semimajoraxis is None:\n",
    "        hostmass = getFloat(star,\"./mass\",1.)\n",
    "        period = getFloat(planet,\"./period\",365.25)\n",
    "        semimajoraxis = pow(pow(period/6.283/365.25,2)*39.49*hostmass,1.0/3.0)\n",
    "\n",
    "    temperature = getFloat(star,\"./temperature\")\n",
    "\n",
    "    if temperature is None:\n",
    "        temperature = spectraltypes_temp_radii[spectralTypeMain][0]\n",
    "\n",
    "    rel_temp = temperature - 5700.\n",
    "\n",
    "    stellarMass = getFloat(star,\"./mass\")\n",
    "    if stellarMass is None:\n",
    "        stellarMass = 1.\n",
    "\n",
    "    stellarRadius = getFloat(star,\"./radius\")\n",
    "    if stellarRadius is None or stellarRadius<0.01:\n",
    "        stellarRadius = 1.\n",
    "        if spectralTypeMain in spectraltypes_temp_radii:\n",
    "            stellarRadius = spectraltypes_temp_radii[spectralTypeMain][1]\n",
    "\n",
    "\n",
    "    if stellarMass>2.:\n",
    "        luminosity = 1.5 * pow(stellarMass,3.5)\n",
    "    elif stellarMass>0.43:\n",
    "        luminosity = pow(stellarMass,4.)\n",
    "    else:\n",
    "        luminosity = 0.23 * stellarMass**2.3\n",
    "\n",
    "    # Ref: http://adsabs.harvard.edu/abs/2007A%26A...476.1373S\n",
    "    #using the Venus and Mars values\n",
    "    HZinner2 = (0.72-2.7619e-5*rel_temp-3.8095e-9*rel_temp*rel_temp) *math.sqrt(luminosity);\n",
    "    HZouter2 = (1.77-1.3786e-4*rel_temp-1.4286e-9*rel_temp*rel_temp) *math.sqrt(luminosity);\n",
    "\n",
    "    #print(semimajoraxis, temperature, rel_temp, stellarMass, stellarRadius, luminosity, HZinner2, HZouter2)\n",
    "    \n",
    "    if semimajoraxis>HZinner2 and semimajoraxis<HZouter2:\n",
    "        return True\n",
    "    return False\n",
    "\n",
    "def getText(obj,tag,default=None):\n",
    "    v = obj.find(tag)\n",
    "    if v is not None:\n",
    "        return v.text\n",
    "    return default \n",
    "def getFloat(obj,tag,default=None):\n",
    "    v = obj.find(tag)\n",
    "    if v is not None:\n",
    "        try:\n",
    "            return float(v.text)\n",
    "        except:\n",
    "            return default\n",
    "    return default\n",
    "\n",
    "#attempt to use the name to create a link to the open exoplanet catalogue\n",
    "def searchURL(name):\n",
    "#https://stackoverflow.com/questions/33427504/how-can-i-scrape-the-first-link-of-a-google-search-with-beautiful-soup\n",
    "    searchFor = \"Open Exoplanet Catalogue \" + name\n",
    "    goog_search = \"https://www.google.co.uk/search?sclient=psy-ab&client=ubuntu&hs=k5b&channel=fs&biw=1366&bih=648&noj=1&q=\" + searchFor\n",
    "    r = requests.get(goog_search)\n",
    "\n",
    "    soup = BeautifulSoup(r.text, \"html.parser\")\n",
    "    #sometimes this seems to break\n",
    "    \n",
    "    return \"http://\"+soup.find('cite').text.replace(\"...\",\"planet\")\n",
    "    \n",
    "def makeURL(name):\n",
    "    link = \"http://www.openexoplanetcatalogue.com/planet/\" + name.replace(\" \", \"%20\") + \"%20b/\"\n",
    "        \n",
    "    retry = False\n",
    "    \n",
    "#https://stackoverflow.com/questions/16778435/python-check-if-website-exists   \n",
    "    try:\n",
    "        urllib2.urlopen(link)\n",
    "    except urllib2.HTTPError, e:\n",
    "        #link = \"http://www.openexoplanetcatalogue.com/systems/\"\n",
    "        print(name, link, e.code)\n",
    "        link = searchURL(name)\n",
    "        print(link + \"\\n\")\n",
    "        retry = True\n",
    "    except urllib2.URLError, e:\n",
    "        #link = \"http://www.openexoplanetcatalogue.com/systems/\"\n",
    "        print(name, link, e.args)\n",
    "        link = searchURL(name)\n",
    "        print(link + \"\\n\")\n",
    "        retry = True\n",
    "        \n",
    "    if (retry):\n",
    "        try:\n",
    "            urllib2.urlopen(link)\n",
    "        except urllib2.HTTPError, e:\n",
    "            print(name, link, e.code)\n",
    "            link = \"http://www.openexoplanetcatalogue.com/systems/\"\n",
    "            print(link + \"\\n\")\n",
    "\n",
    "        except urllib2.URLError, e:\n",
    "            print(name, link, e.args)\n",
    "            link = \"http://www.openexoplanetcatalogue.com/systems/\"\n",
    "            print(link + \"\\n\")\n",
    "            \n",
    "    if (link.find(\"xml\") >= 0 or link == \"http://www.openexoplanetcatalogue.com/\"):\n",
    "        print(\"bad\", link)\n",
    "        link = \"http://www.openexoplanetcatalogue.com/systems/\"\n",
    "        print(link + \"\\n\")\n",
    "\n",
    "    return link\n"
   ]
  },
  {
   "cell_type": "code",
   "execution_count": null,
   "metadata": {
    "collapsed": true
   },
   "outputs": [],
   "source": [
    "#create the JSON file, and then add the name of the variable (parts) that we want\n",
    "def createJSON(data, fname, vname):\n",
    "    print(\"writing JSON file : \" + fname)\n",
    "    pd.Series(data).to_json(fname, orient='index') \n",
    "\n",
    "#    pd.Series(data).to_json(fname+'0', orient='index') \n",
    "#     with open(fname+'0', 'r') as src:\n",
    "#         with open(fname, 'w') as dest:\n",
    "#             for line in src:\n",
    "#                 dest.write('%s%s' % (\"var \"+vname+\" = \", line))\n",
    "                \n",
    "#     os.remove(fname+'0')\n",
    "    print(\"done\")"
   ]
  },
  {
   "cell_type": "code",
   "execution_count": null,
   "metadata": {
    "collapsed": false,
    "scrolled": true
   },
   "outputs": [],
   "source": [
    "exoplanetData = dict()\n",
    "exoplanetData[\"x\"] = []\n",
    "exoplanetData[\"y\"] = []\n",
    "exoplanetData[\"z\"] = []\n",
    "exoplanetData[\"afac\"] = []\n",
    "exoplanetData[\"yrDiscovered\"] = []\n",
    "exoplanetData[\"method\"] = []\n",
    "exoplanetData[\"class\"] = []\n",
    "exoplanetData[\"period\"] = []\n",
    "exoplanetData[\"ringInfo\"] = []\n",
    "exoplanetData[\"name\"] = []\n",
    "exoplanetData[\"URL\"] = []\n",
    "\n",
    "\n",
    "u.imperial.enable() # to enable light years\n",
    "methodDict = {'N/A':0,'RV':5,'imaging':1,'microlensing':2,'timing':3,'transit':4}\n",
    "for system in oec.findall(\".//system\"):\n",
    "    planets = system.findall(\".//planet\")\n",
    "    star = system.find(\".//star\")\n",
    "    nPlanets=len(planets)\n",
    "    raStr=system.findtext(\"rightascension\")\n",
    "    decStr=system.findtext(\"declination\")\n",
    "    dist=system.findtext(\"distance\")\n",
    "    if not(raStr is None or decStr is None ):\n",
    "        ra=Angle(raStr+' hours')\n",
    "        dec=Angle(decStr+'degrees')\n",
    "        d2 = 1000.0 if dist is None else dist\n",
    "        coord=SkyCoord(ra,dec,distance=float(d2)*u.pc, frame='icrs')\n",
    "        amax=0\n",
    "        Pmax=0\n",
    "        name = '_'\n",
    "        if (star is not None):\n",
    "            name = star.findtext(\"name\")#.replace(\" \", \"_\")\n",
    "        #if (name == \"TRAPPIST-1\"):\n",
    "        if (True):\n",
    "            for planet in planets:\n",
    "                a=planet.findtext(\"semimajoraxis\")\n",
    "                P=planet.findtext(\"period\")\n",
    "                try:\n",
    "                    float(a)\n",
    "                    if (float(a)>amax):\n",
    "                        amax=float(a)\n",
    "                except:\n",
    "                    pass\n",
    "                try:\n",
    "                    float(P)\n",
    "                    if (float(P)>Pmax):\n",
    "                        Pmax=float(P)\n",
    "                except:\n",
    "                    pass\n",
    "\n",
    "            for i,planet in enumerate(planets):\n",
    "                period=planet.findtext(\"period\")\n",
    "                if (period is None or period==''):\n",
    "                    period = -999\n",
    "                    afac =1\n",
    "                else:\n",
    "                    afac = pow(float(period)/Pmax,2./3.)\n",
    "                discovery=planet.findtext(\"discoveryyear\")\n",
    "                discoverymethod=planet.findtext(\"discoverymethod\")\n",
    "                a=planet.findtext(\"semimajoraxis\")\n",
    "                massTag=planet.find(\"mass\")\n",
    "                mass=getValorUL(massTag)\n",
    "                sizeTag=planet.find(\"radius\")\n",
    "                size = getValorUL(sizeTag)\n",
    "                ringInfo =nPlanets+float(i)/100\n",
    "                if (dist is None):\n",
    "                    ringInfo=-1.*ringInfo\n",
    "                if (size >0):\n",
    "                    rEarth = float(size)*11.2 #convert from Jupiter to Earth radaii\n",
    "                    if (rEarth >= 0 and rEarth<0.75):\n",
    "                        sClass=0 #smaller\n",
    "                    elif (rEarth >= 0.75 and rEarth<1.25):\n",
    "                        sClass =1 #Earth sized\n",
    "                    elif (rEarth >= 1.25 and rEarth<2.0):\n",
    "                        sClass=2 #Super Earth sized\n",
    "                    elif (rEarth >= 2.0 and rEarth<6.0):\n",
    "                        sClass=3 #Neptune sized\n",
    "                    elif (rEarth >= 6.0 and rEarth<15.0):\n",
    "                        sClass=4 #JupiterSized\n",
    "                    else:\n",
    "                        sClass=5 #larger\n",
    "                elif (mass>0):\n",
    "                    m=mass*318.8\n",
    "                    if (m >= 0 and m<0.6):\n",
    "                        sClass=0 #smaller\n",
    "                    elif (m >= 0.6 and m<1.5):\n",
    "                        sClass =1 #Earth sized\n",
    "                    elif (m >= 1.5 and m<5.0):\n",
    "                        sClass=2 #Super Earth sized\n",
    "                    elif (m >= 5.0 and m<60.0):\n",
    "                        sClass=3 #Neptune sized\n",
    "                    elif (m >=60.0 and m<1000.0):\n",
    "                        sClass=4 #JupiterSized\n",
    "                    else:\n",
    "                        sClass=5 #larger\n",
    "                else:\n",
    "                    sClass=-1\n",
    "                try:\n",
    "                    discYear=float(discovery)\n",
    "                except:\n",
    "                    discYear=2017\n",
    "                if (isHabitable((planet,star))):\n",
    "                    discYear*=-1\n",
    "                if (discoverymethod is None):\n",
    "                    discoverymethod='N/A'\n",
    "\n",
    "\n",
    "                # only write if confirmed planet            \n",
    "                for plist in planet.findall('list'):\n",
    "                    #if (name == \"TRAPPIST-1\"): print(name, plist.text)\n",
    "                    if (plist.text == 'Confirmed planets'):\n",
    "                        exoplanetData[\"x\"].append(coord.galactic.cartesian.x.value)\n",
    "                        exoplanetData[\"y\"].append(coord.galactic.cartesian.y.value)\n",
    "                        exoplanetData[\"z\"].append(coord.galactic.cartesian.z.value)\n",
    "                        exoplanetData[\"afac\"].append(afac)\n",
    "                        exoplanetData[\"yrDiscovered\"].append(discYear)\n",
    "                        exoplanetData[\"method\"].append(methodDict[discoverymethod])\n",
    "                        exoplanetData[\"class\"].append(sClass)\n",
    "                        exoplanetData[\"period\"].append(period)\n",
    "                        exoplanetData[\"ringInfo\"].append(ringInfo)\n",
    "                        exoplanetData[\"name\"].append(name)\n",
    "                        exoplanetData[\"URL\"].append(makeURL(name))\n",
    "\n",
    "                    \n"
   ]
  },
  {
   "cell_type": "code",
   "execution_count": null,
   "metadata": {
    "collapsed": false
   },
   "outputs": [],
   "source": [
    "createJSON(exoplanetData, 'data/OpenExoplanetCatalog_Nov2017.json', 'exoplanets')\n"
   ]
  },
  {
   "cell_type": "code",
   "execution_count": null,
   "metadata": {
    "collapsed": false
   },
   "outputs": [],
   "source": [
    "#second check for the URLs\n",
    "for i, u in enumerate(exoplanetData[\"URL\"]):\n",
    "    if (exoplanetData[\"URL\"][i] == \"http://www.openexoplanetcatalogue.com/systems/\"):\n",
    "        exoplanetData[\"URL\"][i] = makeURL(exoplanetData[\"name\"][i])\n"
   ]
  },
  {
   "cell_type": "markdown",
   "metadata": {},
   "source": [
    "## Some information about how to access the exoplanet data stored in oec"
   ]
  },
  {
   "cell_type": "code",
   "execution_count": null,
   "metadata": {
    "collapsed": false
   },
   "outputs": [],
   "source": [
    "i=0\n",
    "for system in oec.findall(\".//system\"):\n",
    "    planet= system.find(\".//planet\")\n",
    "    star = system.find(\".//star\")\n",
    "    if (isHabitable((planet,star))):\n",
    "        i=i+1\n",
    "print(i)"
   ]
  },
  {
   "cell_type": "markdown",
   "metadata": {
    "collapsed": false
   },
   "source": [
    "system=oec.find(\".//system\")\n",
    "planet = system.find(\".//planet\")\n",
    "star = system.find(\".//star\")\n",
    "isHabitable((system,star,planet))\n",
    "    "
   ]
  },
  {
   "cell_type": "code",
   "execution_count": null,
   "metadata": {
    "collapsed": false
   },
   "outputs": [],
   "source": [
    "for planet in system:\n",
    "    print(planet)"
   ]
  },
  {
   "cell_type": "code",
   "execution_count": null,
   "metadata": {
    "collapsed": false
   },
   "outputs": [],
   "source": [
    "for child in planet:\n",
    "    print (child.tag,child.text,child.attrib,planet.findtext(\"name\"))"
   ]
  },
  {
   "cell_type": "code",
   "execution_count": null,
   "metadata": {
    "collapsed": false
   },
   "outputs": [],
   "source": [
    "for child in star:\n",
    "    print(child.tag, child.text)\n",
    "print star.findtext('name')"
   ]
  },
  {
   "cell_type": "code",
   "execution_count": null,
   "metadata": {
    "collapsed": false
   },
   "outputs": [],
   "source": [
    "for e in planet.getchildren():\n",
    "    if e.tag == \"mass\":\n",
    "        print (e.get(\"errorminus\"))"
   ]
  },
  {
   "cell_type": "code",
   "execution_count": null,
   "metadata": {
    "collapsed": false
   },
   "outputs": [],
   "source": [
    "t =planet.find(\"period\")\n",
    "t.get('errorplus')"
   ]
  },
  {
   "cell_type": "code",
   "execution_count": null,
   "metadata": {
    "collapsed": true
   },
   "outputs": [],
   "source": []
  }
 ],
 "metadata": {
  "anaconda-cloud": {},
  "kernelspec": {
   "display_name": "Python 2",
   "language": "python",
   "name": "python2"
  },
  "language_info": {
   "codemirror_mode": {
    "name": "ipython",
    "version": 2
   },
   "file_extension": ".py",
   "mimetype": "text/x-python",
   "name": "python",
   "nbconvert_exporter": "python",
   "pygments_lexer": "ipython2",
   "version": "2.7.13"
  }
 },
 "nbformat": 4,
 "nbformat_minor": 1
}
